{
 "cells": [
  {
   "cell_type": "markdown",
   "metadata": {},
   "source": [
    "###1.    Retrieve specific nutrient information (Twix caramel cookie bars) from the USDA DB"
   ]
  },
  {
   "cell_type": "code",
   "execution_count": 3,
   "metadata": {
    "collapsed": false
   },
   "outputs": [],
   "source": [
    "import urllib\n",
    "import pandas as pd\n",
    "import json\n",
    "import ast\n",
    "\n",
    "import Keys\n",
    "\n",
    "try:\n",
    "    import xml.etree.cElementTree as ET\n",
    "except ImportError:\n",
    "    import xml.etree.ElementTree as ET"
   ]
  },
  {
   "cell_type": "code",
   "execution_count": 24,
   "metadata": {
    "collapsed": false
   },
   "outputs": [],
   "source": [
    " #product query and db number retrieval        \n",
    "query = urllib.quote_plus(\"Twix caramel cookie bars\".lower())\n",
    "url = \"https://api.nal.usda.gov/ndb/search/?format=xml&q=\" + query + \"&max=1500&offset=0&api_key=\" + Keys.usda_key\n",
    "data = urllib.urlopen(url)\n",
    "data = data.read()\n",
    "root = ET.fromstring(data)\n",
    "dbno = list(root)[0].find('ndbno').text #assume the 1st element correct. Ways to test that?\n",
    " #get product nutrient table\n",
    "url = \"https://api.nal.usda.gov/ndb/reports/?ndbno=\"+ dbno + \"&type=f&format=json&api_key=\"+ Keys.usda_key\n",
    "data = urllib.urlopen(url)\n",
    "data = data.read()   \n",
    "data = ast.literal_eval(data)\n",
    "data = pd.DataFrame.from_dict(data[\"report\"][\"food\"][\"nutrients\"])\n",
    "data = data.loc[:,[\"group\",\"name\",\"unit\",\"value\"]]"
   ]
  },
  {
   "cell_type": "code",
   "execution_count": 38,
   "metadata": {
    "collapsed": true
   },
   "outputs": [],
   "source": [
    "def nutrientlists(query):\n",
    "    '''A function that takes a food product name and brief description and returns a table with nutritional \n",
    "    information on the specific product and all the related ones'''\n",
    "\n",
    "    #product query and db number retrieval        \n",
    "    query = urllib.quote_plus(query.lower())\n",
    "    url = \"https://api.nal.usda.gov/ndb/search/?format=xml&q=\" + query + \"&max=1500&offset=0&api_key=\" + Keys.usda_key\n",
    "    data = urllib.urlopen(url) #\n",
    "    data = data.read()\n",
    "    root = ET.fromstring(data)\n",
    "    dbno = list(root)[0].find('ndbno').text #assume the 1st element correct. Ways to test that?\n",
    "    \n",
    "def nutrientFromdbno:    \n",
    "     #get product nutrient table\n",
    "    url = \"https://api.nal.usda.gov/ndb/reports/?ndbno=\"+ dbno + \"&type=f&format=json&api_key=\"+ Keys.usda_key\n",
    "    data = urllib.urlopen(url) #\n",
    "    data = data.read()   \n",
    "    data = ast.literal_eval(data)\n",
    "    data = pd.DataFrame.from_dict(data[\"report\"][\"food\"][\"nutrients\"])\n",
    "    data = data.loc[:,[\"group\",\"name\",\"unit\",\"value\"]]\n",
    "    return data"
   ]
  },
  {
   "cell_type": "code",
   "execution_count": 61,
   "metadata": {
    "collapsed": false
   },
   "outputs": [],
   "source": [
    "query = urllib.quote_plus(\"Twix caramel cookie bars\".lower())\n",
    "url = \"https://api.nal.usda.gov/ndb/search/?format=xml&q=\" + query + \"&max=1500&offset=0&api_key=\" + Keys.usda_key\n",
    "data = urllib.urlopen(url)\n",
    "data = data.read()\n",
    "root = ET.fromstring(data)"
   ]
  },
  {
   "cell_type": "code",
   "execution_count": 62,
   "metadata": {
    "collapsed": false
   },
   "outputs": [
    {
     "name": "stdout",
     "output_type": "stream",
     "text": [
      "Candies, MARS SNACKFOOD US, TWIX Caramel Cookie Bars\n",
      "Candies, MARS SNACKFOOD US, TWIX Peanut Butter Cookie Bars\n",
      "Candies, MARS SNACKFOOD US, TWIX chocolate fudge cookie bars\n",
      "LITTLE DEBBIE, COOKIE BARS, SALTED CARAMEL, UPC: 024300042362\n",
      "COOKIE & CARAMEL BAR, UPC: 053035359100\n",
      "DETOUR, LEAN MUSCLE WHEY PROTEIN BAR, COOKIE DOUGH CARAMEL CRISP, UPC: 733913008756\n",
      "POWERBAR, 12G PROTEIN RECOVERY BAR, COOKIES & CREAM CARAMEL CRISP, UPC: 097421620009\n"
     ]
    }
   ],
   "source": [
    "for i in range(len(list(root))):\n",
    "    print list(root)[i].find('name').text"
   ]
  },
  {
   "cell_type": "code",
   "execution_count": 56,
   "metadata": {
    "collapsed": false
   },
   "outputs": [
    {
     "data": {
      "text/plain": [
       "299"
      ]
     },
     "execution_count": 56,
     "metadata": {},
     "output_type": "execute_result"
    }
   ],
   "source": [
    "len(list(root))"
   ]
  },
  {
   "cell_type": "code",
   "execution_count": null,
   "metadata": {
    "collapsed": true
   },
   "outputs": [],
   "source": []
  }
 ],
 "metadata": {
  "anaconda-cloud": {},
  "kernelspec": {
   "display_name": "Python [basic_env]",
   "language": "python",
   "name": "Python [basic_env]"
  },
  "language_info": {
   "codemirror_mode": {
    "name": "ipython",
    "version": 2
   },
   "file_extension": ".py",
   "mimetype": "text/x-python",
   "name": "python",
   "nbconvert_exporter": "python",
   "pygments_lexer": "ipython2",
   "version": "2.7.12"
  }
 },
 "nbformat": 4,
 "nbformat_minor": 0
}
